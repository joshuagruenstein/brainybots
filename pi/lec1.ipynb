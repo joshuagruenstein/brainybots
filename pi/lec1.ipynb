{
 "cells": [
  {
   "cell_type": "code",
   "execution_count": 30,
   "metadata": {},
   "outputs": [],
   "source": [
    "from robot import Robot\n",
    "from utils import *\n",
    "r = Robot()"
   ]
  },
  {
   "cell_type": "markdown",
   "metadata": {},
   "source": [
    "### Getting used to Jupyter\n",
    "\n",
    "Type python in the cells, and press `shift+enter` on the keyboard to run a cell.  Create a new cell with the plus button, or delete the current one with the scissor button.  The last value in the cell is automatically printed by Jupyter."
   ]
  },
  {
   "cell_type": "code",
   "execution_count": 18,
   "metadata": {},
   "outputs": [
    {
     "data": {
      "text/plain": [
       "4"
      ]
     },
     "execution_count": 18,
     "metadata": {},
     "output_type": "execute_result"
    }
   ],
   "source": [
    "2+2"
   ]
  },
  {
   "cell_type": "code",
   "execution_count": 19,
   "metadata": {},
   "outputs": [
    {
     "name": "stdout",
     "output_type": "stream",
     "text": [
      "Hello!\n",
      "Hello!\n",
      "Hello!\n"
     ]
    }
   ],
   "source": [
    "for i in range(3):\n",
    "    print('Hello!')"
   ]
  },
  {
   "cell_type": "markdown",
   "metadata": {},
   "source": [
    "We will interact with our robots by coding in these notebooks.  We do this through the `Robot` class, instantiated above as `r`.  For example, to read the forward distance sensor in centimeters:"
   ]
  },
  {
   "cell_type": "code",
   "execution_count": 39,
   "metadata": {},
   "outputs": [
    {
     "data": {
      "text/plain": [
       "33.952414875693755"
      ]
     },
     "execution_count": 39,
     "metadata": {},
     "output_type": "execute_result"
    }
   ],
   "source": [
    "r.forward_distance()"
   ]
  },
  {
   "cell_type": "markdown",
   "metadata": {},
   "source": [
    "Jupyter can also provide helpful hints on how to use functions by adding a `?` to the end, like so:"
   ]
  },
  {
   "cell_type": "code",
   "execution_count": 22,
   "metadata": {},
   "outputs": [
    {
     "data": {
      "text/plain": [
       "\u001b[0;31mSignature:\u001b[0m \u001b[0mr\u001b[0m\u001b[0;34m.\u001b[0m\u001b[0mforward_distance\u001b[0m\u001b[0;34m(\u001b[0m\u001b[0;34m)\u001b[0m\u001b[0;34m\u001b[0m\u001b[0;34m\u001b[0m\u001b[0m\n",
       "\u001b[0;31mDocstring:\u001b[0m\n",
       "Gets a reading from the center distance sensor in centimeters.\n",
       "Note that this sensor is prone to error.\n",
       "\n",
       "Returns:\n",
       "float: the distance sensor reading in centimeters.\n",
       "\u001b[0;31mFile:\u001b[0m      ~/brainybots/pi/robot.py\n",
       "\u001b[0;31mType:\u001b[0m      method\n"
      ]
     },
     "metadata": {},
     "output_type": "display_data"
    }
   ],
   "source": [
    "r.forward_distance?"
   ]
  },
  {
   "cell_type": "markdown",
   "metadata": {},
   "source": [
    "Another useful function we may want is `gaussian(x,mu,sigma)`, which evaluates $\\mathcal N (d;\\mu,\\sigma)$, or the value of a gaussian PDF evaluated at `x` with mean `mu` and standard deviation `sigma`."
   ]
  },
  {
   "cell_type": "code",
   "execution_count": 27,
   "metadata": {},
   "outputs": [
    {
     "data": {
      "text/plain": [
       "0.1329807601338109"
      ]
     },
     "execution_count": 27,
     "metadata": {},
     "output_type": "execute_result"
    }
   ],
   "source": [
    "x = 0\n",
    "mu = 0\n",
    "sigma = 3\n",
    "\n",
    "gaussian(x,mu,sigma)"
   ]
  },
  {
   "cell_type": "markdown",
   "metadata": {},
   "source": [
    "We can also find more information about this function using the `?` notation we used before:"
   ]
  },
  {
   "cell_type": "code",
   "execution_count": 28,
   "metadata": {},
   "outputs": [
    {
     "data": {
      "text/plain": [
       "\u001b[0;31mSignature:\u001b[0m \u001b[0mgaussian\u001b[0m\u001b[0;34m(\u001b[0m\u001b[0mx\u001b[0m\u001b[0;34m,\u001b[0m \u001b[0mmu\u001b[0m\u001b[0;34m,\u001b[0m \u001b[0msigma\u001b[0m\u001b[0;34m)\u001b[0m\u001b[0;34m\u001b[0m\u001b[0;34m\u001b[0m\u001b[0m\n",
       "\u001b[0;31mDocstring:\u001b[0m\n",
       "Evaluates the pdf of a normal distribution with mean\n",
       "mu and standard deviation sigma at point x.\n",
       "\n",
       "Parameters:\n",
       "x (float): the value to evaluate the PDF at\n",
       "mu (float): the mean of the normal distribution\n",
       "sigma (float): the standard deviation of the normal distribution\n",
       "\n",
       "Returns:\n",
       "float: the result of the PDF at point x (between 0 and 1).\n",
       "\u001b[0;31mFile:\u001b[0m      ~/brainybots/pi/utils.py\n",
       "\u001b[0;31mType:\u001b[0m      function\n"
      ]
     },
     "metadata": {},
     "output_type": "display_data"
    }
   ],
   "source": [
    "gaussian?"
   ]
  },
  {
   "cell_type": "markdown",
   "metadata": {},
   "source": [
    "### Lab: who am I?\n",
    "\n",
    "For our first lab, we will be applying our newfound probability knowledge to estimate which robot we are connected to.\n",
    "\n",
    "To begin, let's define $A$ as a *discrete* random variable that represents the robot we are connected to, with $A=0$ as the blue robot and $A=1$ as the red robot.  We'll also define $B$ as a *gaussian* random variable with $\\sigma=5$.  Use a tape measure to identify the mean of this Gaussian for each room, with $\\mu_0$ as the distance to the wall for the short room and $\\mu_1$ as the distance to the wall for the long room. We represent our sensor reading as a random variable because we don't expect our measurement to be perfect; in this case, we expect around 5 centimeters of error in our reading.  In mathematical terms, assuming a sensor reading of $d$ centimeters: \n",
    "\n",
    "$$\n",
    "\\begin{aligned}\n",
    "P(A) &= 0.5 \\text{ (uniform prior across rooms)} \\\\\n",
    "P(B=d | A=0) &= \\mathcal N (d ; \\mu=\\mu_0,\\sigma=5) \\\\\n",
    "P(B=d | A=1) &= \\mathcal N (d ; \\mu=\\mu_1,\\sigma=5)\n",
    "\\end{aligned}\n",
    "$$\n",
    "\n",
    "Given this and the methods `gaussian` and `r.forward_distance`, use Bayes rule and the total probability theorem to compute the probability the robot is in each room in a cell in the Jupyter notebook!"
   ]
  },
  {
   "cell_type": "code",
   "execution_count": 58,
   "metadata": {},
   "outputs": [],
   "source": [
    "# insert code here.\n",
    "\n"
   ]
  }
 ],
 "metadata": {
  "kernelspec": {
   "display_name": "Python 3",
   "language": "python",
   "name": "python3"
  },
  "language_info": {
   "codemirror_mode": {
    "name": "ipython",
    "version": 3
   },
   "file_extension": ".py",
   "mimetype": "text/x-python",
   "name": "python",
   "nbconvert_exporter": "python",
   "pygments_lexer": "ipython3",
   "version": "3.7.3"
  }
 },
 "nbformat": 4,
 "nbformat_minor": 4
}
